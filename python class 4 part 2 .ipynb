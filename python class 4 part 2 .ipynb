{
 "cells": [
  {
   "cell_type": "markdown",
   "id": "e03a3e7f",
   "metadata": {},
   "source": [
    "# break:\n",
    "            the break statement terminates the loop containing it.control of the program flows to the statement immediately after the body of the loop.if break system is inside a nested loop(loop inside another loop).break will terminate the innermost loop."
   ]
  },
  {
   "cell_type": "raw",
   "id": "53ec4fd5",
   "metadata": {},
   "source": []
  },
  {
   "cell_type": "code",
   "execution_count": 3,
   "id": "6b44bdd4",
   "metadata": {},
   "outputs": [
    {
     "name": "stdout",
     "output_type": "stream",
     "text": [
      "bengaluru\n",
      "chennai\n",
      "hyderabad\n"
     ]
    }
   ],
   "source": [
    "#use of break statement inside loop\n",
    "city = ['bengaluru','chennai','hyderabad','noida','murthal']\n",
    "for val in city:\n",
    "    if val == 'noida':\n",
    "        break                          #if and print should be in same line.otherwise result will not occur.  \n",
    "    print(val)    "
   ]
  },
  {
   "cell_type": "code",
   "execution_count": 5,
   "id": "d6158012",
   "metadata": {},
   "outputs": [
    {
     "name": "stdout",
     "output_type": "stream",
     "text": [
      "12000\n",
      "13000\n",
      "45000\n"
     ]
    }
   ],
   "source": [
    "#as soon as condition satisfy loop will break and it will not check next element.\n",
    "salary = [12000,13000,45000,89000,76000,34000 , 11000]\n",
    "for val in salary:\n",
    "    if val > 50000:\n",
    "        break                    # value will stop printing as soon as it get higher than 50000, it stops looking for other value as soon as it become higher than 50000.\n",
    "    print(val)    "
   ]
  },
  {
   "cell_type": "markdown",
   "id": "8c1c5749",
   "metadata": {},
   "source": [
    "# continue:\n",
    "                 the continue statement is used to skip the rest of the code inside a loop for the current iteration only.loop doesn't terminate but continue with nect iteration"
   ]
  },
  {
   "cell_type": "markdown",
   "id": "e6f6779a",
   "metadata": {},
   "source": [
    "# function:\n",
    "                we will write one function on the basis of which many cases will be coded.\n",
    "                ro write a function first we have to define a function(def).\n",
    "                then we will have to call off the function."
   ]
  },
  {
   "cell_type": "code",
   "execution_count": 6,
   "id": "270cc83d",
   "metadata": {},
   "outputs": [
    {
     "name": "stdout",
     "output_type": "stream",
     "text": [
      "noida\n",
      "bhiwani\n",
      "jhajar\n",
      "hisar\n",
      "sirsa\n"
     ]
    }
   ],
   "source": [
    "#continue\n",
    "city = ['noida','bhiwani','jhajar','fatehbad','hisar','sirsa']\n",
    "for val in city:\n",
    "    if val =='fatehbad':                                #it will skip fathebad and will move to next city and include every city\n",
    "        continue\n",
    "    print(val)    "
   ]
  },
  {
   "cell_type": "code",
   "execution_count": 7,
   "id": "5a14f9a3",
   "metadata": {},
   "outputs": [
    {
     "name": "stdout",
     "output_type": "stream",
     "text": [
      "1000\n",
      "2000\n",
      "5000\n",
      "4000\n"
     ]
    }
   ],
   "source": [
    "salary = [1000,2000,5000,7000,4000,13000,5300]\n",
    "for val in salary:\n",
    "    if val >5000:                               #only value less than 5000 will occur\n",
    "        continue\n",
    "    print(val)    "
   ]
  },
  {
   "cell_type": "code",
   "execution_count": 8,
   "id": "b7625c70",
   "metadata": {},
   "outputs": [],
   "source": [
    "#how to def a function\n",
    "#def name of function (arg1,arg2):    #arguments going to pass some data and in order to save data we create arguments.\n"
   ]
  },
  {
   "cell_type": "code",
   "execution_count": 12,
   "id": "3f05857e",
   "metadata": {},
   "outputs": [],
   "source": [
    "def sayhello():\n",
    "    print('this is just a sample')     #out nothing happenend defining a function is not enough we have to call it off."
   ]
  },
  {
   "cell_type": "code",
   "execution_count": 14,
   "id": "37e94565",
   "metadata": {},
   "outputs": [],
   "source": [
    "#a simple greeting function\n",
    "def greeting(name):\n",
    "    print('hello' ,name)\n",
    "  "
   ]
  },
  {
   "cell_type": "code",
   "execution_count": 15,
   "id": "41fe8c53",
   "metadata": {},
   "outputs": [
    {
     "name": "stdout",
     "output_type": "stream",
     "text": [
      "hello good morning\n"
     ]
    }
   ],
   "source": [
    "greeting('good morning')            #this is how we calloff a function"
   ]
  },
  {
   "cell_type": "markdown",
   "id": "08b4fe90",
   "metadata": {},
   "source": [
    "# using return"
   ]
  },
  {
   "cell_type": "code",
   "execution_count": 16,
   "id": "7cdd2065",
   "metadata": {},
   "outputs": [],
   "source": [
    "#salary update of employee\n",
    "#without return\n",
    "def salary_inc(fixed_salary , rent):            #it is defining of function where salary and rent are arguments.\n",
    "    total_salary = (fixed_salary + rent)\n",
    "    if total_salary <=9000:\n",
    "        total_salary+1000\n",
    "    else:\n",
    "        total_salary"
   ]
  },
  {
   "cell_type": "code",
   "execution_count": 18,
   "id": "a741277a",
   "metadata": {},
   "outputs": [
    {
     "name": "stdout",
     "output_type": "stream",
     "text": [
      "your new salary None\n"
     ]
    }
   ],
   "source": [
    "print('your new salary' , salary_inc(6500,2000))      #this is known as calling off the function but as we haven't use return the result is none here."
   ]
  },
  {
   "cell_type": "code",
   "execution_count": 25,
   "id": "e37067b4",
   "metadata": {},
   "outputs": [],
   "source": [
    "def salary_inc(fixed_salary , rent):           \n",
    "    total_salary = (fixed_salary + rent)    #here we used return so the function works.\n",
    "    if total_salary <=9000:\n",
    "        return total_salary + 1000\n",
    "    else:\n",
    "        return total_salary"
   ]
  },
  {
   "cell_type": "code",
   "execution_count": 27,
   "id": "43f99cc4",
   "metadata": {},
   "outputs": [
    {
     "name": "stdout",
     "output_type": "stream",
     "text": [
      "your new salary = 9000\n"
     ]
    }
   ],
   "source": [
    "print('your new salary =', salary_inc(6000,2000))"
   ]
  },
  {
   "cell_type": "code",
   "execution_count": null,
   "id": "00a5709b",
   "metadata": {},
   "outputs": [],
   "source": []
  },
  {
   "cell_type": "code",
   "execution_count": null,
   "id": "c4604cd9",
   "metadata": {},
   "outputs": [],
   "source": []
  }
 ],
 "metadata": {
  "kernelspec": {
   "display_name": "Python 3 (ipykernel)",
   "language": "python",
   "name": "python3"
  },
  "language_info": {
   "codemirror_mode": {
    "name": "ipython",
    "version": 3
   },
   "file_extension": ".py",
   "mimetype": "text/x-python",
   "name": "python",
   "nbconvert_exporter": "python",
   "pygments_lexer": "ipython3",
   "version": "3.9.13"
  }
 },
 "nbformat": 4,
 "nbformat_minor": 5
}
